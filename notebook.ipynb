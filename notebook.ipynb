{
 "cells": [
  {
   "cell_type": "code",
   "execution_count": 7,
   "id": "a8355011",
   "metadata": {},
   "outputs": [
    {
     "name": "stdout",
     "output_type": "stream",
     "text": [
      "Saved top-3 predictions to submission_top3.csv\n"
     ]
    }
   ],
   "source": [
    "import pandas as pd\n",
    "\n",
    "# 1) Load & fully convert prob columns to float\n",
    "df = pd.read_csv(\"submission_convnext.csv\")\n",
    "id_col    = df.columns[0]\n",
    "prob_cols = df.columns[1:]\n",
    "df[prob_cols] = df[prob_cols].astype(float)\n",
    "\n",
    "# 2) Extract top-3 per row (casting inside)\n",
    "def get_top3(row):\n",
    "    # cast this row’s probs back to float\n",
    "    rowp = row[prob_cols].astype(float)\n",
    "    top3 = rowp.nlargest(3)\n",
    "    cls  = top3.index.tolist()\n",
    "    pr   = top3.values.tolist()\n",
    "    return pd.Series({\n",
    "        'top1_class': cls[0], 'top1_prob': pr[0],\n",
    "        'top2_class': cls[1], 'top2_prob': pr[1],\n",
    "        'top3_class': cls[2], 'top3_prob': pr[2],\n",
    "    })\n",
    "\n",
    "top3_df = df.apply(get_top3, axis=1)\n",
    "\n",
    "# 3) Combine with IDs and write to CSV\n",
    "result = pd.concat([df[[id_col]], top3_df], axis=1)\n",
    "result.to_csv(\"submission_top3.csv\", index=False)\n",
    "\n",
    "print(\"Saved top-3 predictions to submission_top3.csv\")\n"
   ]
  }
 ],
 "metadata": {
  "kernelspec": {
   "display_name": "hecto",
   "language": "python",
   "name": "python3"
  },
  "language_info": {
   "codemirror_mode": {
    "name": "ipython",
    "version": 3
   },
   "file_extension": ".py",
   "mimetype": "text/x-python",
   "name": "python",
   "nbconvert_exporter": "python",
   "pygments_lexer": "ipython3",
   "version": "3.12.9"
  }
 },
 "nbformat": 4,
 "nbformat_minor": 5
}
